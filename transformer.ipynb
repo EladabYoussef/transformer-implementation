{
  "nbformat": 4,
  "nbformat_minor": 0,
  "metadata": {
    "colab": {
      "provenance": []
    },
    "kernelspec": {
      "name": "python3",
      "display_name": "Python 3"
    },
    "language_info": {
      "name": "python"
    },
    "widgets": {
      "application/vnd.jupyter.widget-state+json": {
        "69684aca987547cc94cb06fb16c4b5a3": {
          "model_module": "@jupyter-widgets/controls",
          "model_name": "HBoxModel",
          "model_module_version": "1.5.0",
          "state": {
            "_dom_classes": [],
            "_model_module": "@jupyter-widgets/controls",
            "_model_module_version": "1.5.0",
            "_model_name": "HBoxModel",
            "_view_count": null,
            "_view_module": "@jupyter-widgets/controls",
            "_view_module_version": "1.5.0",
            "_view_name": "HBoxView",
            "box_style": "",
            "children": [
              "IPY_MODEL_4be1fa08ab004908a44023efca715f58",
              "IPY_MODEL_c51e98a35973495ca78d85792c305215",
              "IPY_MODEL_b15a7695a4da4d2099272e83666418ae"
            ],
            "layout": "IPY_MODEL_125d494c03c1451cab03bb6e3aded7b2"
          }
        },
        "4be1fa08ab004908a44023efca715f58": {
          "model_module": "@jupyter-widgets/controls",
          "model_name": "HTMLModel",
          "model_module_version": "1.5.0",
          "state": {
            "_dom_classes": [],
            "_model_module": "@jupyter-widgets/controls",
            "_model_module_version": "1.5.0",
            "_model_name": "HTMLModel",
            "_view_count": null,
            "_view_module": "@jupyter-widgets/controls",
            "_view_module_version": "1.5.0",
            "_view_name": "HTMLView",
            "description": "",
            "description_tooltip": null,
            "layout": "IPY_MODEL_e6e9fea17cbd4479974c9f603f7d7e66",
            "placeholder": "​",
            "style": "IPY_MODEL_f03856a3dd1c4422a6ce094ae0b184b5",
            "value": "Epoch 29: 100%"
          }
        },
        "c51e98a35973495ca78d85792c305215": {
          "model_module": "@jupyter-widgets/controls",
          "model_name": "FloatProgressModel",
          "model_module_version": "1.5.0",
          "state": {
            "_dom_classes": [],
            "_model_module": "@jupyter-widgets/controls",
            "_model_module_version": "1.5.0",
            "_model_name": "FloatProgressModel",
            "_view_count": null,
            "_view_module": "@jupyter-widgets/controls",
            "_view_module_version": "1.5.0",
            "_view_name": "ProgressView",
            "bar_style": "success",
            "description": "",
            "description_tooltip": null,
            "layout": "IPY_MODEL_df769a47ce0e463295a6787b531f65fe",
            "max": 2,
            "min": 0,
            "orientation": "horizontal",
            "style": "IPY_MODEL_b45f44fd364649c6ba0a23c4adaa8234",
            "value": 2
          }
        },
        "b15a7695a4da4d2099272e83666418ae": {
          "model_module": "@jupyter-widgets/controls",
          "model_name": "HTMLModel",
          "model_module_version": "1.5.0",
          "state": {
            "_dom_classes": [],
            "_model_module": "@jupyter-widgets/controls",
            "_model_module_version": "1.5.0",
            "_model_name": "HTMLModel",
            "_view_count": null,
            "_view_module": "@jupyter-widgets/controls",
            "_view_module_version": "1.5.0",
            "_view_name": "HTMLView",
            "description": "",
            "description_tooltip": null,
            "layout": "IPY_MODEL_c4784485d5a34319a110e468e1549633",
            "placeholder": "​",
            "style": "IPY_MODEL_0e9bf9c7c98842b5bb5b66fa9ea665db",
            "value": " 2/2 [00:00&lt;00:00, 62.86it/s, v_num=32]"
          }
        },
        "125d494c03c1451cab03bb6e3aded7b2": {
          "model_module": "@jupyter-widgets/base",
          "model_name": "LayoutModel",
          "model_module_version": "1.2.0",
          "state": {
            "_model_module": "@jupyter-widgets/base",
            "_model_module_version": "1.2.0",
            "_model_name": "LayoutModel",
            "_view_count": null,
            "_view_module": "@jupyter-widgets/base",
            "_view_module_version": "1.2.0",
            "_view_name": "LayoutView",
            "align_content": null,
            "align_items": null,
            "align_self": null,
            "border": null,
            "bottom": null,
            "display": "inline-flex",
            "flex": null,
            "flex_flow": "row wrap",
            "grid_area": null,
            "grid_auto_columns": null,
            "grid_auto_flow": null,
            "grid_auto_rows": null,
            "grid_column": null,
            "grid_gap": null,
            "grid_row": null,
            "grid_template_areas": null,
            "grid_template_columns": null,
            "grid_template_rows": null,
            "height": null,
            "justify_content": null,
            "justify_items": null,
            "left": null,
            "margin": null,
            "max_height": null,
            "max_width": null,
            "min_height": null,
            "min_width": null,
            "object_fit": null,
            "object_position": null,
            "order": null,
            "overflow": null,
            "overflow_x": null,
            "overflow_y": null,
            "padding": null,
            "right": null,
            "top": null,
            "visibility": null,
            "width": "100%"
          }
        },
        "e6e9fea17cbd4479974c9f603f7d7e66": {
          "model_module": "@jupyter-widgets/base",
          "model_name": "LayoutModel",
          "model_module_version": "1.2.0",
          "state": {
            "_model_module": "@jupyter-widgets/base",
            "_model_module_version": "1.2.0",
            "_model_name": "LayoutModel",
            "_view_count": null,
            "_view_module": "@jupyter-widgets/base",
            "_view_module_version": "1.2.0",
            "_view_name": "LayoutView",
            "align_content": null,
            "align_items": null,
            "align_self": null,
            "border": null,
            "bottom": null,
            "display": null,
            "flex": null,
            "flex_flow": null,
            "grid_area": null,
            "grid_auto_columns": null,
            "grid_auto_flow": null,
            "grid_auto_rows": null,
            "grid_column": null,
            "grid_gap": null,
            "grid_row": null,
            "grid_template_areas": null,
            "grid_template_columns": null,
            "grid_template_rows": null,
            "height": null,
            "justify_content": null,
            "justify_items": null,
            "left": null,
            "margin": null,
            "max_height": null,
            "max_width": null,
            "min_height": null,
            "min_width": null,
            "object_fit": null,
            "object_position": null,
            "order": null,
            "overflow": null,
            "overflow_x": null,
            "overflow_y": null,
            "padding": null,
            "right": null,
            "top": null,
            "visibility": null,
            "width": null
          }
        },
        "f03856a3dd1c4422a6ce094ae0b184b5": {
          "model_module": "@jupyter-widgets/controls",
          "model_name": "DescriptionStyleModel",
          "model_module_version": "1.5.0",
          "state": {
            "_model_module": "@jupyter-widgets/controls",
            "_model_module_version": "1.5.0",
            "_model_name": "DescriptionStyleModel",
            "_view_count": null,
            "_view_module": "@jupyter-widgets/base",
            "_view_module_version": "1.2.0",
            "_view_name": "StyleView",
            "description_width": ""
          }
        },
        "df769a47ce0e463295a6787b531f65fe": {
          "model_module": "@jupyter-widgets/base",
          "model_name": "LayoutModel",
          "model_module_version": "1.2.0",
          "state": {
            "_model_module": "@jupyter-widgets/base",
            "_model_module_version": "1.2.0",
            "_model_name": "LayoutModel",
            "_view_count": null,
            "_view_module": "@jupyter-widgets/base",
            "_view_module_version": "1.2.0",
            "_view_name": "LayoutView",
            "align_content": null,
            "align_items": null,
            "align_self": null,
            "border": null,
            "bottom": null,
            "display": null,
            "flex": "2",
            "flex_flow": null,
            "grid_area": null,
            "grid_auto_columns": null,
            "grid_auto_flow": null,
            "grid_auto_rows": null,
            "grid_column": null,
            "grid_gap": null,
            "grid_row": null,
            "grid_template_areas": null,
            "grid_template_columns": null,
            "grid_template_rows": null,
            "height": null,
            "justify_content": null,
            "justify_items": null,
            "left": null,
            "margin": null,
            "max_height": null,
            "max_width": null,
            "min_height": null,
            "min_width": null,
            "object_fit": null,
            "object_position": null,
            "order": null,
            "overflow": null,
            "overflow_x": null,
            "overflow_y": null,
            "padding": null,
            "right": null,
            "top": null,
            "visibility": null,
            "width": null
          }
        },
        "b45f44fd364649c6ba0a23c4adaa8234": {
          "model_module": "@jupyter-widgets/controls",
          "model_name": "ProgressStyleModel",
          "model_module_version": "1.5.0",
          "state": {
            "_model_module": "@jupyter-widgets/controls",
            "_model_module_version": "1.5.0",
            "_model_name": "ProgressStyleModel",
            "_view_count": null,
            "_view_module": "@jupyter-widgets/base",
            "_view_module_version": "1.2.0",
            "_view_name": "StyleView",
            "bar_color": null,
            "description_width": ""
          }
        },
        "c4784485d5a34319a110e468e1549633": {
          "model_module": "@jupyter-widgets/base",
          "model_name": "LayoutModel",
          "model_module_version": "1.2.0",
          "state": {
            "_model_module": "@jupyter-widgets/base",
            "_model_module_version": "1.2.0",
            "_model_name": "LayoutModel",
            "_view_count": null,
            "_view_module": "@jupyter-widgets/base",
            "_view_module_version": "1.2.0",
            "_view_name": "LayoutView",
            "align_content": null,
            "align_items": null,
            "align_self": null,
            "border": null,
            "bottom": null,
            "display": null,
            "flex": null,
            "flex_flow": null,
            "grid_area": null,
            "grid_auto_columns": null,
            "grid_auto_flow": null,
            "grid_auto_rows": null,
            "grid_column": null,
            "grid_gap": null,
            "grid_row": null,
            "grid_template_areas": null,
            "grid_template_columns": null,
            "grid_template_rows": null,
            "height": null,
            "justify_content": null,
            "justify_items": null,
            "left": null,
            "margin": null,
            "max_height": null,
            "max_width": null,
            "min_height": null,
            "min_width": null,
            "object_fit": null,
            "object_position": null,
            "order": null,
            "overflow": null,
            "overflow_x": null,
            "overflow_y": null,
            "padding": null,
            "right": null,
            "top": null,
            "visibility": null,
            "width": null
          }
        },
        "0e9bf9c7c98842b5bb5b66fa9ea665db": {
          "model_module": "@jupyter-widgets/controls",
          "model_name": "DescriptionStyleModel",
          "model_module_version": "1.5.0",
          "state": {
            "_model_module": "@jupyter-widgets/controls",
            "_model_module_version": "1.5.0",
            "_model_name": "DescriptionStyleModel",
            "_view_count": null,
            "_view_module": "@jupyter-widgets/base",
            "_view_module_version": "1.2.0",
            "_view_name": "StyleView",
            "description_width": ""
          }
        }
      }
    }
  },
  "cells": [
    {
      "cell_type": "code",
      "execution_count": null,
      "metadata": {
        "id": "XzuuhHMAJ0z-"
      },
      "outputs": [],
      "source": [
        "import torch\n",
        "import torch.nn as nn\n",
        "from torch.optim import Adam\n",
        "from torch.utils.data import DataLoader, TensorDataset"
      ]
    },
    {
      "cell_type": "code",
      "source": [
        "! pip install lightning"
      ],
      "metadata": {
        "colab": {
          "base_uri": "https://localhost:8080/"
        },
        "id": "bXKSgQVqKABl",
        "outputId": "463d815c-7057-4370-99df-979c3ccbd417"
      },
      "execution_count": null,
      "outputs": [
        {
          "output_type": "stream",
          "name": "stdout",
          "text": [
            "Requirement already satisfied: lightning in /usr/local/lib/python3.11/dist-packages (2.5.1)\n",
            "Requirement already satisfied: PyYAML<8.0,>=5.4 in /usr/local/lib/python3.11/dist-packages (from lightning) (6.0.2)\n",
            "Requirement already satisfied: fsspec<2026.0,>=2022.5.0 in /usr/local/lib/python3.11/dist-packages (from fsspec[http]<2026.0,>=2022.5.0->lightning) (2025.3.2)\n",
            "Requirement already satisfied: lightning-utilities<2.0,>=0.10.0 in /usr/local/lib/python3.11/dist-packages (from lightning) (0.14.3)\n",
            "Requirement already satisfied: packaging<25.0,>=20.0 in /usr/local/lib/python3.11/dist-packages (from lightning) (24.2)\n",
            "Requirement already satisfied: torch<4.0,>=2.1.0 in /usr/local/lib/python3.11/dist-packages (from lightning) (2.6.0+cu124)\n",
            "Requirement already satisfied: torchmetrics<3.0,>=0.7.0 in /usr/local/lib/python3.11/dist-packages (from lightning) (1.7.1)\n",
            "Requirement already satisfied: tqdm<6.0,>=4.57.0 in /usr/local/lib/python3.11/dist-packages (from lightning) (4.67.1)\n",
            "Requirement already satisfied: typing-extensions<6.0,>=4.4.0 in /usr/local/lib/python3.11/dist-packages (from lightning) (4.13.1)\n",
            "Requirement already satisfied: pytorch-lightning in /usr/local/lib/python3.11/dist-packages (from lightning) (2.5.1)\n",
            "Requirement already satisfied: aiohttp!=4.0.0a0,!=4.0.0a1 in /usr/local/lib/python3.11/dist-packages (from fsspec[http]<2026.0,>=2022.5.0->lightning) (3.11.15)\n",
            "Requirement already satisfied: setuptools in /usr/local/lib/python3.11/dist-packages (from lightning-utilities<2.0,>=0.10.0->lightning) (75.2.0)\n",
            "Requirement already satisfied: filelock in /usr/local/lib/python3.11/dist-packages (from torch<4.0,>=2.1.0->lightning) (3.18.0)\n",
            "Requirement already satisfied: networkx in /usr/local/lib/python3.11/dist-packages (from torch<4.0,>=2.1.0->lightning) (3.4.2)\n",
            "Requirement already satisfied: jinja2 in /usr/local/lib/python3.11/dist-packages (from torch<4.0,>=2.1.0->lightning) (3.1.6)\n",
            "Requirement already satisfied: nvidia-cuda-nvrtc-cu12==12.4.127 in /usr/local/lib/python3.11/dist-packages (from torch<4.0,>=2.1.0->lightning) (12.4.127)\n",
            "Requirement already satisfied: nvidia-cuda-runtime-cu12==12.4.127 in /usr/local/lib/python3.11/dist-packages (from torch<4.0,>=2.1.0->lightning) (12.4.127)\n",
            "Requirement already satisfied: nvidia-cuda-cupti-cu12==12.4.127 in /usr/local/lib/python3.11/dist-packages (from torch<4.0,>=2.1.0->lightning) (12.4.127)\n",
            "Requirement already satisfied: nvidia-cudnn-cu12==9.1.0.70 in /usr/local/lib/python3.11/dist-packages (from torch<4.0,>=2.1.0->lightning) (9.1.0.70)\n",
            "Requirement already satisfied: nvidia-cublas-cu12==12.4.5.8 in /usr/local/lib/python3.11/dist-packages (from torch<4.0,>=2.1.0->lightning) (12.4.5.8)\n",
            "Requirement already satisfied: nvidia-cufft-cu12==11.2.1.3 in /usr/local/lib/python3.11/dist-packages (from torch<4.0,>=2.1.0->lightning) (11.2.1.3)\n",
            "Requirement already satisfied: nvidia-curand-cu12==10.3.5.147 in /usr/local/lib/python3.11/dist-packages (from torch<4.0,>=2.1.0->lightning) (10.3.5.147)\n",
            "Requirement already satisfied: nvidia-cusolver-cu12==11.6.1.9 in /usr/local/lib/python3.11/dist-packages (from torch<4.0,>=2.1.0->lightning) (11.6.1.9)\n",
            "Requirement already satisfied: nvidia-cusparse-cu12==12.3.1.170 in /usr/local/lib/python3.11/dist-packages (from torch<4.0,>=2.1.0->lightning) (12.3.1.170)\n",
            "Requirement already satisfied: nvidia-cusparselt-cu12==0.6.2 in /usr/local/lib/python3.11/dist-packages (from torch<4.0,>=2.1.0->lightning) (0.6.2)\n",
            "Requirement already satisfied: nvidia-nccl-cu12==2.21.5 in /usr/local/lib/python3.11/dist-packages (from torch<4.0,>=2.1.0->lightning) (2.21.5)\n",
            "Requirement already satisfied: nvidia-nvtx-cu12==12.4.127 in /usr/local/lib/python3.11/dist-packages (from torch<4.0,>=2.1.0->lightning) (12.4.127)\n",
            "Requirement already satisfied: nvidia-nvjitlink-cu12==12.4.127 in /usr/local/lib/python3.11/dist-packages (from torch<4.0,>=2.1.0->lightning) (12.4.127)\n",
            "Requirement already satisfied: triton==3.2.0 in /usr/local/lib/python3.11/dist-packages (from torch<4.0,>=2.1.0->lightning) (3.2.0)\n",
            "Requirement already satisfied: sympy==1.13.1 in /usr/local/lib/python3.11/dist-packages (from torch<4.0,>=2.1.0->lightning) (1.13.1)\n",
            "Requirement already satisfied: mpmath<1.4,>=1.1.0 in /usr/local/lib/python3.11/dist-packages (from sympy==1.13.1->torch<4.0,>=2.1.0->lightning) (1.3.0)\n",
            "Requirement already satisfied: numpy>1.20.0 in /usr/local/lib/python3.11/dist-packages (from torchmetrics<3.0,>=0.7.0->lightning) (2.0.2)\n",
            "Requirement already satisfied: aiohappyeyeballs>=2.3.0 in /usr/local/lib/python3.11/dist-packages (from aiohttp!=4.0.0a0,!=4.0.0a1->fsspec[http]<2026.0,>=2022.5.0->lightning) (2.6.1)\n",
            "Requirement already satisfied: aiosignal>=1.1.2 in /usr/local/lib/python3.11/dist-packages (from aiohttp!=4.0.0a0,!=4.0.0a1->fsspec[http]<2026.0,>=2022.5.0->lightning) (1.3.2)\n",
            "Requirement already satisfied: attrs>=17.3.0 in /usr/local/lib/python3.11/dist-packages (from aiohttp!=4.0.0a0,!=4.0.0a1->fsspec[http]<2026.0,>=2022.5.0->lightning) (25.3.0)\n",
            "Requirement already satisfied: frozenlist>=1.1.1 in /usr/local/lib/python3.11/dist-packages (from aiohttp!=4.0.0a0,!=4.0.0a1->fsspec[http]<2026.0,>=2022.5.0->lightning) (1.5.0)\n",
            "Requirement already satisfied: multidict<7.0,>=4.5 in /usr/local/lib/python3.11/dist-packages (from aiohttp!=4.0.0a0,!=4.0.0a1->fsspec[http]<2026.0,>=2022.5.0->lightning) (6.2.0)\n",
            "Requirement already satisfied: propcache>=0.2.0 in /usr/local/lib/python3.11/dist-packages (from aiohttp!=4.0.0a0,!=4.0.0a1->fsspec[http]<2026.0,>=2022.5.0->lightning) (0.3.1)\n",
            "Requirement already satisfied: yarl<2.0,>=1.17.0 in /usr/local/lib/python3.11/dist-packages (from aiohttp!=4.0.0a0,!=4.0.0a1->fsspec[http]<2026.0,>=2022.5.0->lightning) (1.18.3)\n",
            "Requirement already satisfied: MarkupSafe>=2.0 in /usr/local/lib/python3.11/dist-packages (from jinja2->torch<4.0,>=2.1.0->lightning) (3.0.2)\n",
            "Requirement already satisfied: idna>=2.0 in /usr/local/lib/python3.11/dist-packages (from yarl<2.0,>=1.17.0->aiohttp!=4.0.0a0,!=4.0.0a1->fsspec[http]<2026.0,>=2022.5.0->lightning) (3.10)\n"
          ]
        }
      ]
    },
    {
      "cell_type": "code",
      "source": [
        "import lightning as L"
      ],
      "metadata": {
        "id": "ofUD0X-cDXU2"
      },
      "execution_count": null,
      "outputs": []
    },
    {
      "cell_type": "code",
      "source": [
        "token_to_id = {\n",
        "    'monkey': 0,\n",
        "    'stole': 1,\n",
        "    'banana': 2,\n",
        "    'from': 3,\n",
        "    'penguin': 4,\n",
        "    '<EOS>': 5\n",
        "}\n",
        "id_to_token= dict(map(reversed, token_to_id.items()))"
      ],
      "metadata": {
        "id": "v3EyjTH2EHlu"
      },
      "execution_count": null,
      "outputs": []
    },
    {
      "cell_type": "code",
      "source": [
        "inputs = torch.tensor([\n",
        "    [token_to_id[\"monkey\"],\n",
        "     token_to_id[\"stole\"],\n",
        "     token_to_id[\"banana\"],\n",
        "     token_to_id[\"<EOS>\"],\n",
        "     token_to_id[\"from\"]],\n",
        "\n",
        "    [token_to_id[\"penguin\"],\n",
        "     token_to_id[\"stole\"],\n",
        "     token_to_id[\"banana\"],\n",
        "     token_to_id[\"<EOS>\"],\n",
        "     token_to_id[\"from\"]]\n",
        "])\n",
        "\n",
        "labels = torch.tensor([\n",
        "    [token_to_id[\"stole\"],\n",
        "     token_to_id[\"banana\"],\n",
        "     token_to_id[\"<EOS>\"],\n",
        "     token_to_id[\"from\"],\n",
        "     token_to_id[\"<EOS>\"]],\n",
        "\n",
        "    [token_to_id[\"stole\"],\n",
        "     token_to_id[\"banana\"],\n",
        "     token_to_id[\"<EOS>\"],\n",
        "     token_to_id[\"from\"],\n",
        "     token_to_id[\"<EOS>\"]]\n",
        "])\n",
        "dataset= TensorDataset(inputs, labels)\n",
        "dataloader=DataLoader(dataset)"
      ],
      "metadata": {
        "id": "dZtIb1U3EKS2"
      },
      "execution_count": null,
      "outputs": []
    },
    {
      "cell_type": "code",
      "source": [
        "class ScaledDotProductAttention(nn.Module):\n",
        "    def __init__(self, d_k):\n",
        "        super(ScaledDotProductAttention, self).__init__()\n",
        "        self.d_k = d_k\n",
        "        self.softmax = nn.Softmax(dim=1)\n",
        "    def forward(self, Query, Key, Value, masked= False):\n",
        "        scaled_dot_product = torch.matmul(Query, Key.mT) / torch.sqrt(torch.tensor(self.d_k, dtype= torch.float32, device=Query.device))\n",
        "        if masked:\n",
        "            self.mask = torch.triu(torch.multiply(torch.ones_like(scaled_dot_product), float(\"-inf\")), diagonal=1).to(Query.device)\n",
        "            scaled_dot_product = scaled_dot_product+self.mask\n",
        "        attention_pattern = self.softmax(scaled_dot_product)\n",
        "        delta_E = torch.matmul(attention_pattern, Value)\n",
        "\n",
        "        return delta_E\n",
        "\n",
        "\n",
        "class MultiHeadAttention(nn.Module):\n",
        "    def __init__(self, d_model, num_heads):\n",
        "        super(MultiHeadAttention, self).__init__()\n",
        "        self.d_k = d_model // num_heads\n",
        "        self.num_heads = num_heads\n",
        "        self.query = nn.Linear(d_model, self.d_k*num_heads, bias= False)\n",
        "        self.key = nn.Linear(d_model, self.d_k*num_heads, bias= False)\n",
        "        self.value = nn.Linear(d_model, self.d_k*num_heads, bias= False)\n",
        "        self.output_matrix = nn.Linear(num_heads * self.d_k, d_model, bias= False)\n",
        "\n",
        "        self.attention = ScaledDotProductAttention(self.d_k)\n",
        "\n",
        "    def forward(self, Query, Key, Value, masked= False):\n",
        "        batch_size = Query.shape[0]\n",
        "\n",
        "        self.Q = self.query(Query).view(batch_size, -1, self.num_heads, self.d_k).transpose(1, 2).to(Query.device)\n",
        "        self.K = self.key(Key).view(batch_size, -1, self.num_heads, self.d_k).transpose(1, 2).to(Query.device)\n",
        "        self.V = self.value(Value).view(batch_size, -1, self.num_heads, self.d_k).transpose(1, 2).to(Query.device)\n",
        "\n",
        "        self.delta_E = self.attention(self.Q, self.K, self.V, masked).transpose(1,2).contiguous().view(batch_size, -1, self.num_heads * self.d_k)\n",
        "\n",
        "        self.output = self.output_matrix(self.delta_E)\n",
        "\n",
        "        return self.output"
      ],
      "metadata": {
        "id": "TMdOyxpMGrHE"
      },
      "execution_count": null,
      "outputs": []
    },
    {
      "cell_type": "code",
      "source": [
        "class PositionalEncoding(nn.Module):\n",
        "    def __init__(self, d_model=2, max_len=6):\n",
        "        super(PositionalEncoding, self).__init__()\n",
        "        pe= torch.zeros(max_len, d_model)\n",
        "        pos = torch.arange(0, max_len, dtype=torch.float).unsqueeze(1)\n",
        "        embedding_index= torch.arange(0, d_model, step=2, dtype=torch.float).unsqueeze(0)\n",
        "        angle = pos/(torch.tensor(10000)**(embedding_index/d_model))\n",
        "        pe[:, 0::2] = torch.sin(angle)\n",
        "        pe[:, 1::2] = torch.cos(angle)\n",
        "        self.register_buffer('pe', pe)\n",
        "\n",
        "    def forward(self, x):\n",
        "        return x + self.pe[:x.size(0), :].to(x.device)"
      ],
      "metadata": {
        "id": "kcrdpa-HHRmY"
      },
      "execution_count": null,
      "outputs": []
    },
    {
      "cell_type": "code",
      "source": [
        "class DecoderOnlyTransformer(L.LightningModule):\n",
        "    def __init__(self, num_tokens=4, d_model=2, max_len=6):\n",
        "      super().__init__()\n",
        "      self.word_embedding= nn.Embedding(num_embeddings=num_tokens, embedding_dim=d_model)\n",
        "      self.pe= PositionalEncoding(d_model=d_model, max_len=max_len)\n",
        "      self.attention= MultiHeadAttention(d_model=d_model, num_heads=2)\n",
        "      self.norm= nn.LayerNorm(d_model)\n",
        "      self.fc= nn.Linear(in_features=d_model, out_features=num_tokens)\n",
        "\n",
        "      self.loss= nn.CrossEntropyLoss()\n",
        "    def forward(self, tokens):\n",
        "      embeddings= self.word_embedding(tokens)\n",
        "      embeddings = self.pe(embeddings)\n",
        "      self_attention_vals= self.attention(embeddings, embeddings, embeddings, masked= True)\n",
        "      residual_connection= embeddings+self_attention_vals\n",
        "      residual_connection= self.norm(residual_connection)\n",
        "      output= self.fc(residual_connection)\n",
        "      return output\n",
        "\n",
        "    def configure_optimizers(self):\n",
        "      return Adam(self.parameters(), lr=0.1)\n",
        "\n",
        "\n",
        "    def training_step(self, batch, batch_idx):\n",
        "      input_tokens, labels = batch\n",
        "      output = self.forward(input_tokens)\n",
        "      output = output.view(-1, output.size(-1))\n",
        "      labels = labels.view(-1)\n",
        "      loss = self.loss(output, labels)\n",
        "      return loss"
      ],
      "metadata": {
        "id": "ifBjwVATQ4Dx"
      },
      "execution_count": null,
      "outputs": []
    },
    {
      "cell_type": "code",
      "source": [
        "model=DecoderOnlyTransformer(num_tokens=len(token_to_id), d_model=2,max_len=6)"
      ],
      "metadata": {
        "id": "o-0w--qTb_Wl"
      },
      "execution_count": null,
      "outputs": []
    },
    {
      "cell_type": "code",
      "source": [
        "model_input = torch.tensor([token_to_id[\"monkey\"],\n",
        "                            token_to_id[\"stole\"],\n",
        "                            token_to_id[\"<EOS>\"]])\n",
        "\n",
        "input_length = model_input.size(dim=0)\n",
        "predictions = model(model_input.unsqueeze(0))\n",
        "\n",
        "predicted_id=torch.argmax(predictions[-1,:])\n",
        "predicted_ids=predicted_id.unsqueeze(0)\n",
        "\n",
        "max_length=6\n",
        "for i in range (input_length,max_length):\n",
        "  if predicted_id == token_to_id[\"<EOS>\"]:\n",
        "    break\n",
        "\n",
        "  model_input = torch.cat((model_input, predicted_id.unsqueeze(0)))\n",
        "  predictions = model(model_input.unsqueeze(0))\n",
        "  predicted_id = torch.argmax(predictions[0, -1, :])\n",
        "  predicted_ids = torch.cat((predicted_ids, predicted_id.unsqueeze(0)))\n",
        "\n",
        "print(\"Predicted Tokens:\\n\")\n",
        "for id in predicted_ids:\n",
        "  print(\"\\t\", id_to_token[id.item()])"
      ],
      "metadata": {
        "colab": {
          "base_uri": "https://localhost:8080/"
        },
        "id": "d6Q-X6IKcEJF",
        "outputId": "d6b09aa2-e162-47e9-ec17-b82c3a9ba9d2"
      },
      "execution_count": null,
      "outputs": [
        {
          "output_type": "stream",
          "name": "stdout",
          "text": [
            "Predicted Tokens:\n",
            "\n",
            "\t monkey\n",
            "\t <EOS>\n"
          ]
        }
      ]
    },
    {
      "cell_type": "code",
      "source": [
        "train=L.Trainer(max_epochs=30)\n",
        "train.fit(model, train_dataloaders=dataloader)"
      ],
      "metadata": {
        "colab": {
          "base_uri": "https://localhost:8080/",
          "height": 798,
          "referenced_widgets": [
            "69684aca987547cc94cb06fb16c4b5a3",
            "4be1fa08ab004908a44023efca715f58",
            "c51e98a35973495ca78d85792c305215",
            "b15a7695a4da4d2099272e83666418ae",
            "125d494c03c1451cab03bb6e3aded7b2",
            "e6e9fea17cbd4479974c9f603f7d7e66",
            "f03856a3dd1c4422a6ce094ae0b184b5",
            "df769a47ce0e463295a6787b531f65fe",
            "b45f44fd364649c6ba0a23c4adaa8234",
            "c4784485d5a34319a110e468e1549633",
            "0e9bf9c7c98842b5bb5b66fa9ea665db"
          ]
        },
        "id": "JV9rmCukcg6X",
        "outputId": "4ff0c445-f1d4-4f12-a07b-d957482b571e"
      },
      "execution_count": null,
      "outputs": [
        {
          "output_type": "stream",
          "name": "stderr",
          "text": [
            "INFO: You are using the plain ModelCheckpoint callback. Consider using LitModelCheckpoint which with seamless uploading to Model registry.\n",
            "INFO:lightning.pytorch.utilities.rank_zero:You are using the plain ModelCheckpoint callback. Consider using LitModelCheckpoint which with seamless uploading to Model registry.\n",
            "INFO: GPU available: False, used: False\n",
            "INFO:lightning.pytorch.utilities.rank_zero:GPU available: False, used: False\n",
            "INFO: TPU available: False, using: 0 TPU cores\n",
            "INFO:lightning.pytorch.utilities.rank_zero:TPU available: False, using: 0 TPU cores\n",
            "INFO: HPU available: False, using: 0 HPUs\n",
            "INFO:lightning.pytorch.utilities.rank_zero:HPU available: False, using: 0 HPUs\n",
            "INFO: \n",
            "  | Name           | Type               | Params | Mode \n",
            "--------------------------------------------------------------\n",
            "0 | word_embedding | Embedding          | 12     | train\n",
            "1 | pe             | PositionalEncoding | 0      | train\n",
            "2 | attention      | MultiHeadAttention | 16     | train\n",
            "3 | norm           | LayerNorm          | 4      | train\n",
            "4 | fc             | Linear             | 18     | train\n",
            "5 | loss           | CrossEntropyLoss   | 0      | train\n",
            "--------------------------------------------------------------\n",
            "50        Trainable params\n",
            "0         Non-trainable params\n",
            "50        Total params\n",
            "0.000     Total estimated model params size (MB)\n",
            "12        Modules in train mode\n",
            "0         Modules in eval mode\n",
            "INFO:lightning.pytorch.callbacks.model_summary:\n",
            "  | Name           | Type               | Params | Mode \n",
            "--------------------------------------------------------------\n",
            "0 | word_embedding | Embedding          | 12     | train\n",
            "1 | pe             | PositionalEncoding | 0      | train\n",
            "2 | attention      | MultiHeadAttention | 16     | train\n",
            "3 | norm           | LayerNorm          | 4      | train\n",
            "4 | fc             | Linear             | 18     | train\n",
            "5 | loss           | CrossEntropyLoss   | 0      | train\n",
            "--------------------------------------------------------------\n",
            "50        Trainable params\n",
            "0         Non-trainable params\n",
            "50        Total params\n",
            "0.000     Total estimated model params size (MB)\n",
            "12        Modules in train mode\n",
            "0         Modules in eval mode\n"
          ]
        },
        {
          "output_type": "display_data",
          "data": {
            "text/plain": [
              "Training: |          | 0/? [00:00<?, ?it/s]"
            ],
            "application/vnd.jupyter.widget-view+json": {
              "version_major": 2,
              "version_minor": 0,
              "model_id": "69684aca987547cc94cb06fb16c4b5a3"
            }
          },
          "metadata": {}
        },
        {
          "output_type": "stream",
          "name": "stderr",
          "text": [
            "INFO: `Trainer.fit` stopped: `max_epochs=30` reached.\n",
            "INFO:lightning.pytorch.utilities.rank_zero:`Trainer.fit` stopped: `max_epochs=30` reached.\n"
          ]
        }
      ]
    },
    {
      "cell_type": "code",
      "source": [
        "model_input = torch.tensor([token_to_id[\"monkey\"],\n",
        "                            token_to_id[\"stole\"],\n",
        "                            token_to_id[\"banana\"],\n",
        "                            token_to_id[\"from\"]])\n",
        "\n",
        "input_length = model_input.size(dim=0)\n",
        "predictions = model(model_input.unsqueeze(0))\n",
        "\n",
        "predicted_id=torch.argmax(predictions[-1,:])\n",
        "predicted_ids=predicted_id.unsqueeze(0)\n",
        "\n",
        "max_length=6\n",
        "for i in range (input_length,max_length):\n",
        "  if predicted_id == token_to_id[\"<EOS>\"]:\n",
        "    break\n",
        "\n",
        "  model_input = torch.cat((model_input, predicted_id.unsqueeze(0)))\n",
        "  predictions = model(model_input.unsqueeze(0))\n",
        "  predicted_id = torch.argmax(predictions[0, -1, :])\n",
        "  predicted_ids = torch.cat((predicted_ids, predicted_id.unsqueeze(0)))\n",
        "\n",
        "print(\"Predicted Tokens:\\n\")\n",
        "for id in predicted_ids:\n",
        "  print(\"\\t\", id_to_token[id.item()])\n"
      ],
      "metadata": {
        "colab": {
          "base_uri": "https://localhost:8080/"
        },
        "id": "i9ZgsSIBcod-",
        "outputId": "48b52fc5-e588-4943-b23d-fa96f032a79c"
      },
      "execution_count": null,
      "outputs": [
        {
          "output_type": "stream",
          "name": "stdout",
          "text": [
            "Predicted Tokens:\n",
            "\n",
            "\t monkey\n",
            "\t monkey\n",
            "\t monkey\n"
          ]
        }
      ]
    },
    {
      "cell_type": "code",
      "source": [],
      "metadata": {
        "id": "fKdH3AZHmbJN"
      },
      "execution_count": null,
      "outputs": []
    }
  ]
}